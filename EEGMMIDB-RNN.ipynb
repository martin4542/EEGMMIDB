{
 "cells": [
  {
   "cell_type": "code",
   "execution_count": 1,
   "metadata": {
    "scrolled": true
   },
   "outputs": [
    {
     "name": "stderr",
     "output_type": "stream",
     "text": [
      "Using TensorFlow backend.\n"
     ]
    }
   ],
   "source": [
    "from sklearn.metrics import classification_report, confusion_matrix\n",
    "from keras import layers\n",
    "from keras.models import Sequential\n",
    "import matplotlib.pyplot as plt\n",
    "from tqdm import tqdm\n",
    "from scipy import io\n",
    "from math import sqrt\n",
    "import numpy as np\n",
    "import pandas as pd\n",
    "import time\n",
    "import os, sys\n",
    "import pyedflib\n",
    "import urllib.request"
   ]
  },
  {
   "cell_type": "code",
   "execution_count": 2,
   "metadata": {},
   "outputs": [],
   "source": [
    "def takehalfnums(matrix):\n",
    "    halfnums=[]\n",
    "    length = len(matrix)\n",
    "    for i in range(length):\n",
    "        for j in range(i):\n",
    "            halfnums.append(matrix[i][j])\n",
    "    return np.array(halfnums)\n",
    "\n",
    "def plot_confusion_matrix(y_true, y_pred, classes,\n",
    "                          normalize=False,\n",
    "                          title=None,\n",
    "                          cmap=plt.cm.Blues):\n",
    "    \"\"\"\n",
    "    This function prints and plots the confusion matrix.\n",
    "    Normalization can be applied by setting `normalize=True`.\n",
    "    \"\"\"\n",
    "    if not title:\n",
    "        if normalize:\n",
    "            title = 'Normalized confusion matrix'\n",
    "        else:\n",
    "            title = 'Confusion matrix, without normalization'\n",
    "\n",
    "    # Compute confusion matrix\n",
    "    cm = confusion_matrix(y_true, y_pred)\n",
    "    # Only use the labels that appear in the data\n",
    "    # classes = classes[unique_labels(y_true, y_pred)]\n",
    "    if normalize:\n",
    "        cm = cm.astype('float') / cm.sum(axis=1)[:, np.newaxis]\n",
    "        print(\"Normalized confusion matrix\")\n",
    "    else:\n",
    "        print('Confusion matrix, without normalization')\n",
    "\n",
    "    print(cm)\n",
    "\n",
    "    #plt.rcParams[\"figure.figsize\"] = (14,14)\n",
    "    fig, ax = plt.subplots()\n",
    "    \n",
    "    im = ax.imshow(cm, interpolation='nearest', cmap=cmap)\n",
    "    ax.figure.colorbar(im, ax=ax)\n",
    "    # We want to show all ticks...\n",
    "    ax.set(xticks=np.arange(cm.shape[1]),\n",
    "           yticks=np.arange(cm.shape[0]),\n",
    "           # ... and label them with the respective list entries\n",
    "           xticklabels=classes, yticklabels=classes,\n",
    "           title=title,\n",
    "           ylabel='True label',\n",
    "           xlabel='Predicted label')\n",
    "\n",
    "    # Rotate the tick labels and set their alignment.\n",
    "    plt.setp(ax.get_xticklabels(), rotation=45, ha=\"right\",\n",
    "             rotation_mode=\"anchor\")\n",
    "\n",
    "    # Loop over data dimensions and create text annotations.\n",
    "    fmt = '.2f' if normalize else 'd'\n",
    "    thresh = cm.max() / 2.\n",
    "    for i in range(cm.shape[0]):\n",
    "        for j in range(cm.shape[1]):\n",
    "            ax.text(j, i, format(cm[i, j], fmt),\n",
    "                    ha=\"center\", va=\"center\",\n",
    "                    color=\"white\" if cm[i, j] > thresh else \"black\")\n",
    "    #fig.tight_layout()\n",
    "    fig.subplots_adjust(top=1)\n",
    "    fig.show()\n",
    "    return ax"
   ]
  },
  {
   "cell_type": "code",
   "execution_count": 3,
   "metadata": {},
   "outputs": [],
   "source": [
    "MMI_SUBJECT=80\n",
    "MMI_TRIAL = 14\n",
    "MMI_CHANNEL = 64\n",
    "MMI_SAMPLERATE = 160\n",
    "MMI_FEATURE_NUM = 2016\n",
    "MMI_SEQUENCE_LEN = 10"
   ]
  },
  {
   "cell_type": "markdown",
   "metadata": {},
   "source": [
    "## TRIAL 1 (8개 단위로 평균)"
   ]
  },
  {
   "cell_type": "code",
   "execution_count": 5,
   "metadata": {
    "scrolled": true
   },
   "outputs": [
    {
     "name": "stderr",
     "output_type": "stream",
     "text": [
      "\r",
      "  0%|                                                                                          | 0/109 [00:00<?, ?it/s]"
     ]
    },
    {
     "name": "stdout",
     "output_type": "stream",
     "text": [
      "D:/DEAP dataset/EEGMMIDB/eegmmidb_feature/S001\n"
     ]
    },
    {
     "name": "stderr",
     "output_type": "stream",
     "text": [
      "\r",
      "  1%|▊                                                                                 | 1/109 [00:05<09:17,  5.16s/it]"
     ]
    },
    {
     "name": "stdout",
     "output_type": "stream",
     "text": [
      "D:/DEAP dataset/EEGMMIDB/eegmmidb_feature/S002\n"
     ]
    },
    {
     "name": "stderr",
     "output_type": "stream",
     "text": [
      "\r",
      "  2%|█▌                                                                                | 2/109 [00:10<09:20,  5.24s/it]"
     ]
    },
    {
     "name": "stdout",
     "output_type": "stream",
     "text": [
      "D:/DEAP dataset/EEGMMIDB/eegmmidb_feature/S003\n"
     ]
    },
    {
     "name": "stderr",
     "output_type": "stream",
     "text": [
      "\r",
      "  3%|██▎                                                                               | 3/109 [00:15<09:10,  5.20s/it]"
     ]
    },
    {
     "name": "stdout",
     "output_type": "stream",
     "text": [
      "D:/DEAP dataset/EEGMMIDB/eegmmidb_feature/S004\n"
     ]
    },
    {
     "name": "stderr",
     "output_type": "stream",
     "text": [
      "\r",
      "  4%|███                                                                               | 4/109 [00:20<09:04,  5.19s/it]"
     ]
    },
    {
     "name": "stdout",
     "output_type": "stream",
     "text": [
      "D:/DEAP dataset/EEGMMIDB/eegmmidb_feature/S005\n"
     ]
    },
    {
     "name": "stderr",
     "output_type": "stream",
     "text": [
      "\r",
      "  5%|███▊                                                                              | 5/109 [00:25<08:47,  5.07s/it]"
     ]
    },
    {
     "name": "stdout",
     "output_type": "stream",
     "text": [
      "D:/DEAP dataset/EEGMMIDB/eegmmidb_feature/S006\n"
     ]
    },
    {
     "name": "stderr",
     "output_type": "stream",
     "text": [
      "\r",
      "  6%|████▌                                                                             | 6/109 [00:30<08:43,  5.08s/it]"
     ]
    },
    {
     "name": "stdout",
     "output_type": "stream",
     "text": [
      "D:/DEAP dataset/EEGMMIDB/eegmmidb_feature/S007\n"
     ]
    },
    {
     "name": "stderr",
     "output_type": "stream",
     "text": [
      "\r",
      "  6%|█████▎                                                                            | 7/109 [00:35<08:33,  5.03s/it]"
     ]
    },
    {
     "name": "stdout",
     "output_type": "stream",
     "text": [
      "D:/DEAP dataset/EEGMMIDB/eegmmidb_feature/S008\n"
     ]
    },
    {
     "name": "stderr",
     "output_type": "stream",
     "text": [
      "\r",
      "  7%|██████                                                                            | 8/109 [00:40<08:36,  5.11s/it]"
     ]
    },
    {
     "name": "stdout",
     "output_type": "stream",
     "text": [
      "D:/DEAP dataset/EEGMMIDB/eegmmidb_feature/S009\n"
     ]
    },
    {
     "name": "stderr",
     "output_type": "stream",
     "text": [
      "\r",
      "  8%|██████▊                                                                           | 9/109 [00:45<08:23,  5.03s/it]"
     ]
    },
    {
     "name": "stdout",
     "output_type": "stream",
     "text": [
      "D:/DEAP dataset/EEGMMIDB/eegmmidb_feature/S010\n"
     ]
    },
    {
     "name": "stderr",
     "output_type": "stream",
     "text": [
      "\r",
      "  9%|███████▍                                                                         | 10/109 [00:50<08:12,  4.98s/it]"
     ]
    },
    {
     "name": "stdout",
     "output_type": "stream",
     "text": [
      "D:/DEAP dataset/EEGMMIDB/eegmmidb_feature/S011\n"
     ]
    },
    {
     "name": "stderr",
     "output_type": "stream",
     "text": [
      "\r",
      " 10%|████████▏                                                                        | 11/109 [00:55<08:13,  5.03s/it]"
     ]
    },
    {
     "name": "stdout",
     "output_type": "stream",
     "text": [
      "D:/DEAP dataset/EEGMMIDB/eegmmidb_feature/S012\n"
     ]
    },
    {
     "name": "stderr",
     "output_type": "stream",
     "text": [
      "\r",
      " 11%|████████▉                                                                        | 12/109 [01:01<08:18,  5.14s/it]"
     ]
    },
    {
     "name": "stdout",
     "output_type": "stream",
     "text": [
      "D:/DEAP dataset/EEGMMIDB/eegmmidb_feature/S013\n"
     ]
    },
    {
     "name": "stderr",
     "output_type": "stream",
     "text": [
      "\r",
      " 12%|█████████▋                                                                       | 13/109 [01:06<08:11,  5.12s/it]"
     ]
    },
    {
     "name": "stdout",
     "output_type": "stream",
     "text": [
      "D:/DEAP dataset/EEGMMIDB/eegmmidb_feature/S014\n"
     ]
    },
    {
     "name": "stderr",
     "output_type": "stream",
     "text": [
      "\r",
      " 13%|██████████▍                                                                      | 14/109 [01:11<08:02,  5.08s/it]"
     ]
    },
    {
     "name": "stdout",
     "output_type": "stream",
     "text": [
      "D:/DEAP dataset/EEGMMIDB/eegmmidb_feature/S015\n"
     ]
    },
    {
     "name": "stderr",
     "output_type": "stream",
     "text": [
      "\r",
      " 14%|███████████▏                                                                     | 15/109 [01:15<07:47,  4.98s/it]"
     ]
    },
    {
     "name": "stdout",
     "output_type": "stream",
     "text": [
      "D:/DEAP dataset/EEGMMIDB/eegmmidb_feature/S016\n"
     ]
    },
    {
     "name": "stderr",
     "output_type": "stream",
     "text": [
      "\r",
      " 15%|███████████▉                                                                     | 16/109 [01:21<07:44,  4.99s/it]"
     ]
    },
    {
     "name": "stdout",
     "output_type": "stream",
     "text": [
      "D:/DEAP dataset/EEGMMIDB/eegmmidb_feature/S017\n"
     ]
    },
    {
     "name": "stderr",
     "output_type": "stream",
     "text": [
      "\r",
      " 16%|████████████▋                                                                    | 17/109 [01:26<07:54,  5.16s/it]"
     ]
    },
    {
     "name": "stdout",
     "output_type": "stream",
     "text": [
      "D:/DEAP dataset/EEGMMIDB/eegmmidb_feature/S018\n"
     ]
    },
    {
     "name": "stderr",
     "output_type": "stream",
     "text": [
      "\r",
      " 17%|█████████████▍                                                                   | 18/109 [01:31<07:46,  5.13s/it]"
     ]
    },
    {
     "name": "stdout",
     "output_type": "stream",
     "text": [
      "D:/DEAP dataset/EEGMMIDB/eegmmidb_feature/S019\n"
     ]
    },
    {
     "name": "stderr",
     "output_type": "stream",
     "text": [
      "\r",
      " 17%|██████████████                                                                   | 19/109 [01:36<07:29,  5.00s/it]"
     ]
    },
    {
     "name": "stdout",
     "output_type": "stream",
     "text": [
      "D:/DEAP dataset/EEGMMIDB/eegmmidb_feature/S020\n"
     ]
    },
    {
     "name": "stderr",
     "output_type": "stream",
     "text": [
      "\r",
      " 18%|██████████████▊                                                                  | 20/109 [01:41<07:26,  5.02s/it]"
     ]
    },
    {
     "name": "stdout",
     "output_type": "stream",
     "text": [
      "D:/DEAP dataset/EEGMMIDB/eegmmidb_feature/S021\n"
     ]
    },
    {
     "name": "stderr",
     "output_type": "stream",
     "text": [
      "\r",
      " 19%|███████████████▌                                                                 | 21/109 [01:46<07:21,  5.02s/it]"
     ]
    },
    {
     "name": "stdout",
     "output_type": "stream",
     "text": [
      "D:/DEAP dataset/EEGMMIDB/eegmmidb_feature/S022\n"
     ]
    },
    {
     "name": "stderr",
     "output_type": "stream",
     "text": [
      "\r",
      " 20%|████████████████▎                                                                | 22/109 [01:51<07:24,  5.11s/it]"
     ]
    },
    {
     "name": "stdout",
     "output_type": "stream",
     "text": [
      "D:/DEAP dataset/EEGMMIDB/eegmmidb_feature/S023\n"
     ]
    },
    {
     "name": "stderr",
     "output_type": "stream",
     "text": [
      "\r",
      " 21%|█████████████████                                                                | 23/109 [01:56<07:14,  5.05s/it]"
     ]
    },
    {
     "name": "stdout",
     "output_type": "stream",
     "text": [
      "D:/DEAP dataset/EEGMMIDB/eegmmidb_feature/S024\n"
     ]
    },
    {
     "name": "stderr",
     "output_type": "stream",
     "text": [
      "\r",
      " 22%|█████████████████▊                                                               | 24/109 [02:01<07:12,  5.09s/it]"
     ]
    },
    {
     "name": "stdout",
     "output_type": "stream",
     "text": [
      "D:/DEAP dataset/EEGMMIDB/eegmmidb_feature/S025\n"
     ]
    },
    {
     "name": "stderr",
     "output_type": "stream",
     "text": [
      "\r",
      " 23%|██████████████████▌                                                              | 25/109 [02:07<07:21,  5.25s/it]"
     ]
    },
    {
     "name": "stdout",
     "output_type": "stream",
     "text": [
      "D:/DEAP dataset/EEGMMIDB/eegmmidb_feature/S026\n"
     ]
    },
    {
     "name": "stderr",
     "output_type": "stream",
     "text": [
      "\r",
      " 24%|███████████████████▎                                                             | 26/109 [02:12<07:08,  5.16s/it]"
     ]
    },
    {
     "name": "stdout",
     "output_type": "stream",
     "text": [
      "D:/DEAP dataset/EEGMMIDB/eegmmidb_feature/S027\n"
     ]
    },
    {
     "name": "stderr",
     "output_type": "stream",
     "text": [
      "\r",
      " 25%|████████████████████                                                             | 27/109 [02:17<06:52,  5.04s/it]"
     ]
    },
    {
     "name": "stdout",
     "output_type": "stream",
     "text": [
      "D:/DEAP dataset/EEGMMIDB/eegmmidb_feature/S028\n"
     ]
    },
    {
     "name": "stderr",
     "output_type": "stream",
     "text": [
      " 26%|████████████████████▊                                                            | 28/109 [02:21<06:42,  4.97s/it]C:\\Users\\jae\\Anaconda3\\lib\\site-packages\\numpy\\lib\\function_base.py:2530: RuntimeWarning: invalid value encountered in true_divide\n",
      "  c /= stddev[:, None]\n"
     ]
    },
    {
     "name": "stdout",
     "output_type": "stream",
     "text": [
      "D:/DEAP dataset/EEGMMIDB/eegmmidb_feature/S029\n"
     ]
    },
    {
     "name": "stderr",
     "output_type": "stream",
     "text": [
      "\r",
      " 27%|█████████████████████▌                                                           | 29/109 [02:27<06:40,  5.01s/it]"
     ]
    },
    {
     "name": "stdout",
     "output_type": "stream",
     "text": [
      "D:/DEAP dataset/EEGMMIDB/eegmmidb_feature/S030\n"
     ]
    },
    {
     "name": "stderr",
     "output_type": "stream",
     "text": [
      "\r",
      " 28%|██████████████████████▎                                                          | 30/109 [02:31<06:27,  4.91s/it]"
     ]
    },
    {
     "name": "stdout",
     "output_type": "stream",
     "text": [
      "D:/DEAP dataset/EEGMMIDB/eegmmidb_feature/S031\n"
     ]
    },
    {
     "name": "stderr",
     "output_type": "stream",
     "text": [
      "\r",
      " 28%|███████████████████████                                                          | 31/109 [02:36<06:28,  4.98s/it]"
     ]
    },
    {
     "name": "stdout",
     "output_type": "stream",
     "text": [
      "D:/DEAP dataset/EEGMMIDB/eegmmidb_feature/S032\n"
     ]
    },
    {
     "name": "stderr",
     "output_type": "stream",
     "text": [
      "\r",
      " 29%|███████████████████████▊                                                         | 32/109 [02:41<06:14,  4.87s/it]"
     ]
    },
    {
     "name": "stdout",
     "output_type": "stream",
     "text": [
      "D:/DEAP dataset/EEGMMIDB/eegmmidb_feature/S033\n"
     ]
    },
    {
     "name": "stderr",
     "output_type": "stream",
     "text": [
      "\r",
      " 30%|████████████████████████▌                                                        | 33/109 [02:46<06:02,  4.77s/it]"
     ]
    },
    {
     "name": "stdout",
     "output_type": "stream",
     "text": [
      "D:/DEAP dataset/EEGMMIDB/eegmmidb_feature/S034\n"
     ]
    },
    {
     "name": "stderr",
     "output_type": "stream",
     "text": [
      "\r",
      " 31%|█████████████████████████▎                                                       | 34/109 [02:51<06:06,  4.88s/it]"
     ]
    },
    {
     "name": "stdout",
     "output_type": "stream",
     "text": [
      "D:/DEAP dataset/EEGMMIDB/eegmmidb_feature/S035\n"
     ]
    },
    {
     "name": "stderr",
     "output_type": "stream",
     "text": [
      "\r",
      " 32%|██████████████████████████                                                       | 35/109 [02:56<06:06,  4.95s/it]"
     ]
    },
    {
     "name": "stdout",
     "output_type": "stream",
     "text": [
      "D:/DEAP dataset/EEGMMIDB/eegmmidb_feature/S036\n"
     ]
    },
    {
     "name": "stderr",
     "output_type": "stream",
     "text": [
      "\r",
      " 33%|██████████████████████████▊                                                      | 36/109 [03:00<05:54,  4.85s/it]"
     ]
    },
    {
     "name": "stdout",
     "output_type": "stream",
     "text": [
      "D:/DEAP dataset/EEGMMIDB/eegmmidb_feature/S037\n"
     ]
    },
    {
     "name": "stderr",
     "output_type": "stream",
     "text": [
      "\r",
      " 34%|███████████████████████████▍                                                     | 37/109 [03:05<05:43,  4.78s/it]"
     ]
    },
    {
     "name": "stdout",
     "output_type": "stream",
     "text": [
      "D:/DEAP dataset/EEGMMIDB/eegmmidb_feature/S038\n"
     ]
    },
    {
     "name": "stderr",
     "output_type": "stream",
     "text": [
      "\r",
      " 35%|████████████████████████████▏                                                    | 38/109 [03:10<05:37,  4.76s/it]"
     ]
    },
    {
     "name": "stdout",
     "output_type": "stream",
     "text": [
      "D:/DEAP dataset/EEGMMIDB/eegmmidb_feature/S039\n"
     ]
    },
    {
     "name": "stderr",
     "output_type": "stream",
     "text": [
      "\r",
      " 36%|████████████████████████████▉                                                    | 39/109 [03:15<05:39,  4.86s/it]"
     ]
    },
    {
     "name": "stdout",
     "output_type": "stream",
     "text": [
      "D:/DEAP dataset/EEGMMIDB/eegmmidb_feature/S040\n"
     ]
    },
    {
     "name": "stderr",
     "output_type": "stream",
     "text": [
      "\r",
      " 37%|█████████████████████████████▋                                                   | 40/109 [03:20<05:42,  4.97s/it]"
     ]
    },
    {
     "name": "stdout",
     "output_type": "stream",
     "text": [
      "D:/DEAP dataset/EEGMMIDB/eegmmidb_feature/S041\n"
     ]
    },
    {
     "name": "stderr",
     "output_type": "stream",
     "text": [
      "\r",
      " 38%|██████████████████████████████▍                                                  | 41/109 [03:25<05:30,  4.87s/it]"
     ]
    },
    {
     "name": "stdout",
     "output_type": "stream",
     "text": [
      "D:/DEAP dataset/EEGMMIDB/eegmmidb_feature/S042\n"
     ]
    },
    {
     "name": "stderr",
     "output_type": "stream",
     "text": [
      "\r",
      " 39%|███████████████████████████████▏                                                 | 42/109 [03:30<05:28,  4.90s/it]"
     ]
    },
    {
     "name": "stdout",
     "output_type": "stream",
     "text": [
      "D:/DEAP dataset/EEGMMIDB/eegmmidb_feature/S043\n"
     ]
    },
    {
     "name": "stderr",
     "output_type": "stream",
     "text": [
      "\r",
      " 39%|███████████████████████████████▉                                                 | 43/109 [03:34<05:22,  4.88s/it]"
     ]
    },
    {
     "name": "stdout",
     "output_type": "stream",
     "text": [
      "D:/DEAP dataset/EEGMMIDB/eegmmidb_feature/S044\n"
     ]
    },
    {
     "name": "stderr",
     "output_type": "stream",
     "text": [
      "\r",
      " 40%|████████████████████████████████▋                                                | 44/109 [03:39<05:18,  4.90s/it]"
     ]
    },
    {
     "name": "stdout",
     "output_type": "stream",
     "text": [
      "D:/DEAP dataset/EEGMMIDB/eegmmidb_feature/S045\n"
     ]
    },
    {
     "name": "stderr",
     "output_type": "stream",
     "text": [
      "\r",
      " 41%|█████████████████████████████████▍                                               | 45/109 [03:44<05:15,  4.92s/it]"
     ]
    },
    {
     "name": "stdout",
     "output_type": "stream",
     "text": [
      "D:/DEAP dataset/EEGMMIDB/eegmmidb_feature/S046\n"
     ]
    },
    {
     "name": "stderr",
     "output_type": "stream",
     "text": [
      "\r",
      " 42%|██████████████████████████████████▏                                              | 46/109 [03:50<05:23,  5.13s/it]"
     ]
    },
    {
     "name": "stdout",
     "output_type": "stream",
     "text": [
      "D:/DEAP dataset/EEGMMIDB/eegmmidb_feature/S047\n"
     ]
    },
    {
     "name": "stderr",
     "output_type": "stream",
     "text": [
      "\r",
      " 43%|██████████████████████████████████▉                                              | 47/109 [03:55<05:11,  5.03s/it]"
     ]
    },
    {
     "name": "stdout",
     "output_type": "stream",
     "text": [
      "D:/DEAP dataset/EEGMMIDB/eegmmidb_feature/S048\n"
     ]
    },
    {
     "name": "stderr",
     "output_type": "stream",
     "text": [
      "\r",
      " 44%|███████████████████████████████████▋                                             | 48/109 [04:00<05:05,  5.00s/it]"
     ]
    },
    {
     "name": "stdout",
     "output_type": "stream",
     "text": [
      "D:/DEAP dataset/EEGMMIDB/eegmmidb_feature/S049\n"
     ]
    },
    {
     "name": "stderr",
     "output_type": "stream",
     "text": [
      "\r",
      " 45%|████████████████████████████████████▍                                            | 49/109 [04:05<04:59,  4.99s/it]"
     ]
    },
    {
     "name": "stdout",
     "output_type": "stream",
     "text": [
      "D:/DEAP dataset/EEGMMIDB/eegmmidb_feature/S050\n"
     ]
    },
    {
     "name": "stderr",
     "output_type": "stream",
     "text": [
      "\r",
      " 46%|█████████████████████████████████████▏                                           | 50/109 [04:10<04:53,  4.98s/it]"
     ]
    },
    {
     "name": "stdout",
     "output_type": "stream",
     "text": [
      "D:/DEAP dataset/EEGMMIDB/eegmmidb_feature/S051\n"
     ]
    },
    {
     "name": "stderr",
     "output_type": "stream",
     "text": [
      "\r",
      " 47%|█████████████████████████████████████▉                                           | 51/109 [04:14<04:44,  4.91s/it]"
     ]
    },
    {
     "name": "stdout",
     "output_type": "stream",
     "text": [
      "D:/DEAP dataset/EEGMMIDB/eegmmidb_feature/S052\n"
     ]
    },
    {
     "name": "stderr",
     "output_type": "stream",
     "text": [
      "\r",
      " 48%|██████████████████████████████████████▋                                          | 52/109 [04:19<04:36,  4.85s/it]"
     ]
    },
    {
     "name": "stdout",
     "output_type": "stream",
     "text": [
      "D:/DEAP dataset/EEGMMIDB/eegmmidb_feature/S053\n"
     ]
    },
    {
     "name": "stderr",
     "output_type": "stream",
     "text": [
      "\r",
      " 49%|███████████████████████████████████████▍                                         | 53/109 [04:24<04:33,  4.89s/it]"
     ]
    },
    {
     "name": "stdout",
     "output_type": "stream",
     "text": [
      "D:/DEAP dataset/EEGMMIDB/eegmmidb_feature/S054\n"
     ]
    },
    {
     "name": "stderr",
     "output_type": "stream",
     "text": [
      "\r",
      " 50%|████████████████████████████████████████▏                                        | 54/109 [04:29<04:24,  4.81s/it]"
     ]
    },
    {
     "name": "stdout",
     "output_type": "stream",
     "text": [
      "D:/DEAP dataset/EEGMMIDB/eegmmidb_feature/S055\n"
     ]
    },
    {
     "name": "stderr",
     "output_type": "stream",
     "text": [
      "\r",
      " 50%|████████████████████████████████████████▊                                        | 55/109 [04:33<04:18,  4.78s/it]"
     ]
    },
    {
     "name": "stdout",
     "output_type": "stream",
     "text": [
      "D:/DEAP dataset/EEGMMIDB/eegmmidb_feature/S056\n"
     ]
    },
    {
     "name": "stderr",
     "output_type": "stream",
     "text": [
      "\r",
      " 51%|█████████████████████████████████████████▌                                       | 56/109 [04:38<04:16,  4.84s/it]"
     ]
    },
    {
     "name": "stdout",
     "output_type": "stream",
     "text": [
      "D:/DEAP dataset/EEGMMIDB/eegmmidb_feature/S057\n"
     ]
    },
    {
     "name": "stderr",
     "output_type": "stream",
     "text": [
      "\r",
      " 52%|██████████████████████████████████████████▎                                      | 57/109 [04:43<04:10,  4.82s/it]"
     ]
    },
    {
     "name": "stdout",
     "output_type": "stream",
     "text": [
      "D:/DEAP dataset/EEGMMIDB/eegmmidb_feature/S058\n"
     ]
    },
    {
     "name": "stderr",
     "output_type": "stream",
     "text": [
      "\r",
      " 53%|███████████████████████████████████████████                                      | 58/109 [04:48<04:03,  4.77s/it]"
     ]
    },
    {
     "name": "stdout",
     "output_type": "stream",
     "text": [
      "D:/DEAP dataset/EEGMMIDB/eegmmidb_feature/S059\n"
     ]
    },
    {
     "name": "stderr",
     "output_type": "stream",
     "text": [
      "\r",
      " 54%|███████████████████████████████████████████▊                                     | 59/109 [04:53<04:03,  4.86s/it]"
     ]
    },
    {
     "name": "stdout",
     "output_type": "stream",
     "text": [
      "D:/DEAP dataset/EEGMMIDB/eegmmidb_feature/S060\n"
     ]
    },
    {
     "name": "stderr",
     "output_type": "stream",
     "text": [
      "\r",
      " 55%|████████████████████████████████████████████▌                                    | 60/109 [04:58<03:54,  4.78s/it]"
     ]
    },
    {
     "name": "stdout",
     "output_type": "stream",
     "text": [
      "D:/DEAP dataset/EEGMMIDB/eegmmidb_feature/S061\n"
     ]
    },
    {
     "name": "stderr",
     "output_type": "stream",
     "text": [
      "\r",
      " 56%|█████████████████████████████████████████████▎                                   | 61/109 [05:02<03:48,  4.76s/it]"
     ]
    },
    {
     "name": "stdout",
     "output_type": "stream",
     "text": [
      "D:/DEAP dataset/EEGMMIDB/eegmmidb_feature/S062\n"
     ]
    },
    {
     "name": "stderr",
     "output_type": "stream",
     "text": [
      "\r",
      " 57%|██████████████████████████████████████████████                                   | 62/109 [05:07<03:43,  4.76s/it]"
     ]
    },
    {
     "name": "stdout",
     "output_type": "stream",
     "text": [
      "D:/DEAP dataset/EEGMMIDB/eegmmidb_feature/S063\n"
     ]
    },
    {
     "name": "stderr",
     "output_type": "stream",
     "text": [
      "\r",
      " 58%|██████████████████████████████████████████████▊                                  | 63/109 [05:12<03:41,  4.82s/it]"
     ]
    },
    {
     "name": "stdout",
     "output_type": "stream",
     "text": [
      "D:/DEAP dataset/EEGMMIDB/eegmmidb_feature/S064\n"
     ]
    },
    {
     "name": "stderr",
     "output_type": "stream",
     "text": [
      "\r",
      " 59%|███████████████████████████████████████████████▌                                 | 64/109 [05:17<03:36,  4.82s/it]"
     ]
    },
    {
     "name": "stdout",
     "output_type": "stream",
     "text": [
      "D:/DEAP dataset/EEGMMIDB/eegmmidb_feature/S065\n"
     ]
    },
    {
     "name": "stderr",
     "output_type": "stream",
     "text": [
      "\r",
      " 60%|████████████████████████████████████████████████▎                                | 65/109 [05:22<03:32,  4.83s/it]"
     ]
    },
    {
     "name": "stdout",
     "output_type": "stream",
     "text": [
      "D:/DEAP dataset/EEGMMIDB/eegmmidb_feature/S066\n"
     ]
    },
    {
     "name": "stderr",
     "output_type": "stream",
     "text": [
      "\r",
      " 61%|█████████████████████████████████████████████████                                | 66/109 [05:26<03:25,  4.78s/it]"
     ]
    },
    {
     "name": "stdout",
     "output_type": "stream",
     "text": [
      "D:/DEAP dataset/EEGMMIDB/eegmmidb_feature/S067\n"
     ]
    },
    {
     "name": "stderr",
     "output_type": "stream",
     "text": [
      "\r",
      " 61%|█████████████████████████████████████████████████▊                               | 67/109 [05:32<03:30,  5.01s/it]"
     ]
    },
    {
     "name": "stdout",
     "output_type": "stream",
     "text": [
      "D:/DEAP dataset/EEGMMIDB/eegmmidb_feature/S068\n"
     ]
    },
    {
     "name": "stderr",
     "output_type": "stream",
     "text": [
      "\r",
      " 62%|██████████████████████████████████████████████████▌                              | 68/109 [05:36<03:21,  4.90s/it]"
     ]
    },
    {
     "name": "stdout",
     "output_type": "stream",
     "text": [
      "D:/DEAP dataset/EEGMMIDB/eegmmidb_feature/S069\n"
     ]
    },
    {
     "name": "stderr",
     "output_type": "stream",
     "text": [
      "\r",
      " 63%|███████████████████████████████████████████████████▎                             | 69/109 [05:41<03:17,  4.93s/it]"
     ]
    },
    {
     "name": "stdout",
     "output_type": "stream",
     "text": [
      "D:/DEAP dataset/EEGMMIDB/eegmmidb_feature/S070\n"
     ]
    },
    {
     "name": "stderr",
     "output_type": "stream",
     "text": [
      "\r",
      " 64%|████████████████████████████████████████████████████                             | 70/109 [05:46<03:09,  4.87s/it]"
     ]
    },
    {
     "name": "stdout",
     "output_type": "stream",
     "text": [
      "D:/DEAP dataset/EEGMMIDB/eegmmidb_feature/S071\n"
     ]
    },
    {
     "name": "stderr",
     "output_type": "stream",
     "text": [
      "\r",
      " 65%|████████████████████████████████████████████████████▊                            | 71/109 [05:52<03:10,  5.02s/it]"
     ]
    },
    {
     "name": "stdout",
     "output_type": "stream",
     "text": [
      "D:/DEAP dataset/EEGMMIDB/eegmmidb_feature/S072\n"
     ]
    },
    {
     "name": "stderr",
     "output_type": "stream",
     "text": [
      "\r",
      " 66%|█████████████████████████████████████████████████████▌                           | 72/109 [05:56<03:00,  4.87s/it]"
     ]
    },
    {
     "name": "stdout",
     "output_type": "stream",
     "text": [
      "D:/DEAP dataset/EEGMMIDB/eegmmidb_feature/S073\n"
     ]
    },
    {
     "name": "stderr",
     "output_type": "stream",
     "text": [
      "\r",
      " 67%|██████████████████████████████████████████████████████▏                          | 73/109 [06:01<02:53,  4.82s/it]"
     ]
    },
    {
     "name": "stdout",
     "output_type": "stream",
     "text": [
      "D:/DEAP dataset/EEGMMIDB/eegmmidb_feature/S074\n"
     ]
    },
    {
     "name": "stderr",
     "output_type": "stream",
     "text": [
      "\r",
      " 68%|██████████████████████████████████████████████████████▉                          | 74/109 [06:06<02:47,  4.79s/it]"
     ]
    },
    {
     "name": "stdout",
     "output_type": "stream",
     "text": [
      "D:/DEAP dataset/EEGMMIDB/eegmmidb_feature/S075\n"
     ]
    },
    {
     "name": "stderr",
     "output_type": "stream",
     "text": [
      "\r",
      " 69%|███████████████████████████████████████████████████████▋                         | 75/109 [06:10<02:42,  4.78s/it]"
     ]
    },
    {
     "name": "stdout",
     "output_type": "stream",
     "text": [
      "D:/DEAP dataset/EEGMMIDB/eegmmidb_feature/S076\n"
     ]
    },
    {
     "name": "stderr",
     "output_type": "stream",
     "text": [
      "\r",
      " 70%|████████████████████████████████████████████████████████▍                        | 76/109 [06:15<02:39,  4.83s/it]"
     ]
    },
    {
     "name": "stdout",
     "output_type": "stream",
     "text": [
      "D:/DEAP dataset/EEGMMIDB/eegmmidb_feature/S077\n"
     ]
    },
    {
     "name": "stderr",
     "output_type": "stream",
     "text": [
      "\r",
      " 71%|█████████████████████████████████████████████████████████▏                       | 77/109 [06:20<02:34,  4.84s/it]"
     ]
    },
    {
     "name": "stdout",
     "output_type": "stream",
     "text": [
      "D:/DEAP dataset/EEGMMIDB/eegmmidb_feature/S078\n"
     ]
    },
    {
     "name": "stderr",
     "output_type": "stream",
     "text": [
      "\r",
      " 72%|█████████████████████████████████████████████████████████▉                       | 78/109 [06:25<02:26,  4.73s/it]"
     ]
    },
    {
     "name": "stdout",
     "output_type": "stream",
     "text": [
      "D:/DEAP dataset/EEGMMIDB/eegmmidb_feature/S079\n"
     ]
    },
    {
     "name": "stderr",
     "output_type": "stream",
     "text": [
      "\r",
      " 72%|██████████████████████████████████████████████████████████▋                      | 79/109 [06:29<02:19,  4.65s/it]"
     ]
    },
    {
     "name": "stdout",
     "output_type": "stream",
     "text": [
      "D:/DEAP dataset/EEGMMIDB/eegmmidb_feature/S080\n"
     ]
    },
    {
     "name": "stderr",
     "output_type": "stream",
     "text": [
      "\r",
      " 73%|███████████████████████████████████████████████████████████▍                     | 80/109 [06:34<02:14,  4.62s/it]"
     ]
    },
    {
     "name": "stdout",
     "output_type": "stream",
     "text": [
      "D:/DEAP dataset/EEGMMIDB/eegmmidb_feature/S081\n"
     ]
    },
    {
     "name": "stderr",
     "output_type": "stream",
     "text": [
      "\r",
      " 74%|████████████████████████████████████████████████████████████▏                    | 81/109 [06:38<02:08,  4.59s/it]"
     ]
    },
    {
     "name": "stdout",
     "output_type": "stream",
     "text": [
      "D:/DEAP dataset/EEGMMIDB/eegmmidb_feature/S082\n"
     ]
    },
    {
     "name": "stderr",
     "output_type": "stream",
     "text": [
      "\r",
      " 75%|████████████████████████████████████████████████████████████▉                    | 82/109 [06:42<02:00,  4.47s/it]"
     ]
    },
    {
     "name": "stdout",
     "output_type": "stream",
     "text": [
      "D:/DEAP dataset/EEGMMIDB/eegmmidb_feature/S083\n"
     ]
    },
    {
     "name": "stderr",
     "output_type": "stream",
     "text": [
      "\r",
      " 76%|█████████████████████████████████████████████████████████████▋                   | 83/109 [06:47<01:54,  4.42s/it]"
     ]
    },
    {
     "name": "stdout",
     "output_type": "stream",
     "text": [
      "D:/DEAP dataset/EEGMMIDB/eegmmidb_feature/S084\n"
     ]
    },
    {
     "name": "stderr",
     "output_type": "stream",
     "text": [
      "\r",
      " 77%|██████████████████████████████████████████████████████████████▍                  | 84/109 [06:51<01:48,  4.33s/it]"
     ]
    },
    {
     "name": "stdout",
     "output_type": "stream",
     "text": [
      "D:/DEAP dataset/EEGMMIDB/eegmmidb_feature/S085\n"
     ]
    },
    {
     "name": "stderr",
     "output_type": "stream",
     "text": [
      "\r",
      " 78%|███████████████████████████████████████████████████████████████▏                 | 85/109 [06:55<01:43,  4.32s/it]"
     ]
    },
    {
     "name": "stdout",
     "output_type": "stream",
     "text": [
      "D:/DEAP dataset/EEGMMIDB/eegmmidb_feature/S086\n"
     ]
    },
    {
     "name": "stderr",
     "output_type": "stream",
     "text": [
      "\r",
      " 79%|███████████████████████████████████████████████████████████████▉                 | 86/109 [06:59<01:38,  4.27s/it]"
     ]
    },
    {
     "name": "stdout",
     "output_type": "stream",
     "text": [
      "D:/DEAP dataset/EEGMMIDB/eegmmidb_feature/S087\n"
     ]
    },
    {
     "name": "stderr",
     "output_type": "stream",
     "text": [
      " 80%|████████████████████████████████████████████████████████████████▋                | 87/109 [07:03<01:33,  4.23s/it]C:\\Users\\jae\\Anaconda3\\lib\\site-packages\\numpy\\core\\fromnumeric.py:3118: RuntimeWarning: Mean of empty slice.\n",
      "  out=out, **kwargs)\n",
      "C:\\Users\\jae\\Anaconda3\\lib\\site-packages\\numpy\\core\\_methods.py:78: RuntimeWarning: invalid value encountered in true_divide\n",
      "  ret, rcount, out=ret, casting='unsafe', subok=False)\n"
     ]
    },
    {
     "name": "stdout",
     "output_type": "stream",
     "text": [
      "D:/DEAP dataset/EEGMMIDB/eegmmidb_feature/S088\n"
     ]
    },
    {
     "name": "stderr",
     "output_type": "stream",
     "text": [
      "\r",
      " 81%|█████████████████████████████████████████████████████████████████▍               | 88/109 [07:08<01:30,  4.32s/it]"
     ]
    },
    {
     "name": "stdout",
     "output_type": "stream",
     "text": [
      "D:/DEAP dataset/EEGMMIDB/eegmmidb_feature/S089\n"
     ]
    },
    {
     "name": "stderr",
     "output_type": "stream",
     "text": [
      "\r",
      " 82%|██████████████████████████████████████████████████████████████████▏              | 89/109 [07:12<01:26,  4.34s/it]"
     ]
    },
    {
     "name": "stdout",
     "output_type": "stream",
     "text": [
      "D:/DEAP dataset/EEGMMIDB/eegmmidb_feature/S090\n"
     ]
    },
    {
     "name": "stderr",
     "output_type": "stream",
     "text": [
      "\r",
      " 83%|██████████████████████████████████████████████████████████████████▉              | 90/109 [07:16<01:21,  4.28s/it]"
     ]
    },
    {
     "name": "stdout",
     "output_type": "stream",
     "text": [
      "D:/DEAP dataset/EEGMMIDB/eegmmidb_feature/S091\n"
     ]
    },
    {
     "name": "stderr",
     "output_type": "stream",
     "text": [
      "\r",
      " 83%|███████████████████████████████████████████████████████████████████▌             | 91/109 [07:21<01:16,  4.25s/it]"
     ]
    },
    {
     "name": "stdout",
     "output_type": "stream",
     "text": [
      "D:/DEAP dataset/EEGMMIDB/eegmmidb_feature/S092\n"
     ]
    },
    {
     "name": "stderr",
     "output_type": "stream",
     "text": [
      "\r",
      " 84%|████████████████████████████████████████████████████████████████████▎            | 92/109 [07:25<01:12,  4.27s/it]"
     ]
    },
    {
     "name": "stdout",
     "output_type": "stream",
     "text": [
      "D:/DEAP dataset/EEGMMIDB/eegmmidb_feature/S093\n"
     ]
    },
    {
     "name": "stderr",
     "output_type": "stream",
     "text": [
      "\r",
      " 85%|█████████████████████████████████████████████████████████████████████            | 93/109 [07:29<01:08,  4.27s/it]"
     ]
    },
    {
     "name": "stdout",
     "output_type": "stream",
     "text": [
      "D:/DEAP dataset/EEGMMIDB/eegmmidb_feature/S094\n"
     ]
    },
    {
     "name": "stderr",
     "output_type": "stream",
     "text": [
      "\r",
      " 86%|█████████████████████████████████████████████████████████████████████▊           | 94/109 [07:33<01:03,  4.23s/it]"
     ]
    },
    {
     "name": "stdout",
     "output_type": "stream",
     "text": [
      "D:/DEAP dataset/EEGMMIDB/eegmmidb_feature/S095\n"
     ]
    },
    {
     "name": "stderr",
     "output_type": "stream",
     "text": [
      "\r",
      " 87%|██████████████████████████████████████████████████████████████████████▌          | 95/109 [07:38<00:59,  4.24s/it]"
     ]
    },
    {
     "name": "stdout",
     "output_type": "stream",
     "text": [
      "D:/DEAP dataset/EEGMMIDB/eegmmidb_feature/S096\n"
     ]
    },
    {
     "name": "stderr",
     "output_type": "stream",
     "text": [
      "\r",
      " 88%|███████████████████████████████████████████████████████████████████████▎         | 96/109 [07:42<00:55,  4.23s/it]"
     ]
    },
    {
     "name": "stdout",
     "output_type": "stream",
     "text": [
      "D:/DEAP dataset/EEGMMIDB/eegmmidb_feature/S097\n"
     ]
    },
    {
     "name": "stderr",
     "output_type": "stream",
     "text": [
      "\r",
      " 89%|████████████████████████████████████████████████████████████████████████         | 97/109 [07:46<00:50,  4.22s/it]"
     ]
    },
    {
     "name": "stdout",
     "output_type": "stream",
     "text": [
      "D:/DEAP dataset/EEGMMIDB/eegmmidb_feature/S098\n"
     ]
    },
    {
     "name": "stderr",
     "output_type": "stream",
     "text": [
      "\r",
      " 90%|████████████████████████████████████████████████████████████████████████▊        | 98/109 [07:50<00:46,  4.20s/it]"
     ]
    },
    {
     "name": "stdout",
     "output_type": "stream",
     "text": [
      "D:/DEAP dataset/EEGMMIDB/eegmmidb_feature/S099\n"
     ]
    },
    {
     "name": "stderr",
     "output_type": "stream",
     "text": [
      "\r",
      " 91%|█████████████████████████████████████████████████████████████████████████▌       | 99/109 [07:54<00:42,  4.21s/it]"
     ]
    },
    {
     "name": "stdout",
     "output_type": "stream",
     "text": [
      "D:/DEAP dataset/EEGMMIDB/eegmmidb_feature/S100\n"
     ]
    },
    {
     "name": "stderr",
     "output_type": "stream",
     "text": [
      "\r",
      " 92%|█████████████████████████████████████████████████████████████████████████▍      | 100/109 [07:58<00:35,  3.96s/it]"
     ]
    },
    {
     "name": "stdout",
     "output_type": "stream",
     "text": [
      "D:/DEAP dataset/EEGMMIDB/eegmmidb_feature/S101\n"
     ]
    },
    {
     "name": "stderr",
     "output_type": "stream",
     "text": [
      "\r",
      " 93%|██████████████████████████████████████████████████████████████████████████▏     | 101/109 [08:02<00:32,  4.03s/it]"
     ]
    },
    {
     "name": "stdout",
     "output_type": "stream",
     "text": [
      "D:/DEAP dataset/EEGMMIDB/eegmmidb_feature/S102\n"
     ]
    },
    {
     "name": "stderr",
     "output_type": "stream",
     "text": [
      "\r",
      " 94%|██████████████████████████████████████████████████████████████████████████▊     | 102/109 [08:06<00:28,  4.10s/it]"
     ]
    },
    {
     "name": "stdout",
     "output_type": "stream",
     "text": [
      "D:/DEAP dataset/EEGMMIDB/eegmmidb_feature/S103\n"
     ]
    },
    {
     "name": "stderr",
     "output_type": "stream",
     "text": [
      " 94%|███████████████████████████████████████████████████████████████████████████▌    | 103/109 [08:10<00:24,  4.14s/it]C:\\Users\\jae\\Anaconda3\\lib\\site-packages\\numpy\\lib\\function_base.py:2531: RuntimeWarning: invalid value encountered in true_divide\n",
      "  c /= stddev[None, :]\n"
     ]
    },
    {
     "name": "stdout",
     "output_type": "stream",
     "text": [
      "D:/DEAP dataset/EEGMMIDB/eegmmidb_feature/S104\n"
     ]
    },
    {
     "name": "stderr",
     "output_type": "stream",
     "text": [
      "\r",
      " 95%|████████████████████████████████████████████████████████████████████████████▎   | 104/109 [08:15<00:20,  4.15s/it]"
     ]
    },
    {
     "name": "stdout",
     "output_type": "stream",
     "text": [
      "D:/DEAP dataset/EEGMMIDB/eegmmidb_feature/S105\n"
     ]
    },
    {
     "name": "stderr",
     "output_type": "stream",
     "text": [
      "\r",
      " 96%|█████████████████████████████████████████████████████████████████████████████   | 105/109 [08:19<00:16,  4.16s/it]"
     ]
    },
    {
     "name": "stdout",
     "output_type": "stream",
     "text": [
      "D:/DEAP dataset/EEGMMIDB/eegmmidb_feature/S106\n"
     ]
    },
    {
     "name": "stderr",
     "output_type": "stream",
     "text": [
      "\r",
      " 97%|█████████████████████████████████████████████████████████████████████████████▊  | 106/109 [08:22<00:12,  4.04s/it]"
     ]
    },
    {
     "name": "stdout",
     "output_type": "stream",
     "text": [
      "D:/DEAP dataset/EEGMMIDB/eegmmidb_feature/S107\n"
     ]
    },
    {
     "name": "stderr",
     "output_type": "stream",
     "text": [
      "\r",
      " 98%|██████████████████████████████████████████████████████████████████████████████▌ | 107/109 [08:27<00:08,  4.08s/it]"
     ]
    },
    {
     "name": "stdout",
     "output_type": "stream",
     "text": [
      "D:/DEAP dataset/EEGMMIDB/eegmmidb_feature/S108\n"
     ]
    },
    {
     "name": "stderr",
     "output_type": "stream",
     "text": [
      "\r",
      " 99%|███████████████████████████████████████████████████████████████████████████████▎| 108/109 [08:31<00:04,  4.08s/it]"
     ]
    },
    {
     "name": "stdout",
     "output_type": "stream",
     "text": [
      "D:/DEAP dataset/EEGMMIDB/eegmmidb_feature/S109\n"
     ]
    },
    {
     "name": "stderr",
     "output_type": "stream",
     "text": [
      "100%|████████████████████████████████████████████████████████████████████████████████| 109/109 [08:35<00:00,  4.10s/it]\n"
     ]
    },
    {
     "name": "stdout",
     "output_type": "stream",
     "text": [
      "(15, 10, 2016)\n",
      "(30, 10, 2016)\n",
      "(15, 10, 2016)\n",
      "(15, 10, 2016)\n",
      "(21, 10, 2016)\n",
      "(24, 10, 2016)\n",
      "Feature extract completed\n"
     ]
    }
   ],
   "source": [
    "file_path='./eegmmidb_edf/S'\n",
    "save_path='D:/DEAP dataset/EEGMMIDB/eegmmidb_feature/S'\n",
    "\n",
    "temp = np.zeros((64,8))\n",
    "temp2 = np.zeros((64,64))\n",
    "MMI_half_num = np.zeros((1,MMI_FEATURE_NUM))\n",
    "MMI_seq_data = np.zeros((1,MMI_SEQUENCE_LEN,MMI_FEATURE_NUM))\n",
    "\n",
    "for i in tqdm(range(MMI_SUBJECT)):\n",
    "    MMI_data_EyeClose = np.array([]).reshape(0,MMI_SEQUENCE_LEN,MMI_FEATURE_NUM)\n",
    "    MMI_data_EyeOpen = np.array([]).reshape(0,MMI_SEQUENCE_LEN,MMI_FEATURE_NUM)\n",
    "    MMI_data_RightHand = np.array([]).reshape(0,MMI_SEQUENCE_LEN,MMI_FEATURE_NUM)\n",
    "    MMI_data_LeftHand = np.array([]).reshape(0,MMI_SEQUENCE_LEN,MMI_FEATURE_NUM)\n",
    "    MMI_data_BothHand = np.array([]).reshape(0,MMI_SEQUENCE_LEN,MMI_FEATURE_NUM)\n",
    "    MMI_data_BothFeet = np.array([]).reshape(0,MMI_SEQUENCE_LEN,MMI_FEATURE_NUM)\n",
    "    \n",
    "    for j in range(MMI_TRIAL):\n",
    "        idx = 0\n",
    "        \n",
    "        path = file_path+str(i+1).zfill(3)+'/s'+str(i+1).zfill(3)+'R'+str(j+1).zfill(2)+'.edf'\n",
    "        f = pyedflib.EdfReader(path)\n",
    "        annotations = f.readAnnotations()\n",
    "        buf_len = f.getNSamples()[0]\n",
    "        sigbufs = np.zeros((MMI_CHANNEL, buf_len))\n",
    "        for k in range(MMI_CHANNEL):\n",
    "            sigbufs[k,:] = f.readSignal(k)\n",
    "        f = pyedflib.close_file\n",
    "        \n",
    "        time_stamp = annotations[0]\n",
    "        label = annotations[2]\n",
    "                \n",
    "        if (j == 1 or j == 2):\n",
    "            for m in range((int)(buf_len/64 - 2)): #뒤쪽 부분 모두 0이라 제외\n",
    "                for n in range(8):\n",
    "                    temp[:,n] = np.mean(sigbufs[:,(m*64)+(n*8) : (m*64)+((n+1)*8)], axis = 1)\n",
    "                temp2 = np.corrcoef(temp)\n",
    "                \n",
    "                MMI_half_num = takehalfnums(temp2)\n",
    "                MMI_seq_data[0,idx,:] = MMI_half_num\n",
    "                idx += 1\n",
    "                \n",
    "                if(idx == 10):\n",
    "                    if(j==1):\n",
    "                        MMI_data_EyeOpen = np.concatenate((MMI_data_EyeOpen, MMI_seq_data), axis = 0)\n",
    "                    else:\n",
    "                        MMI_data_EyeClose = np.concatenate((MMI_data_EyeClose, MMI_seq_data), axis = 0)\n",
    "                    idx = 0\n",
    "            \n",
    "        elif (j%2 == 0 and j>2):\n",
    "        \n",
    "            for k in range(len(label)):\n",
    "                for m in range(10):\n",
    "                    for n in range(8):\n",
    "                        temp[:,n] = np.mean(sigbufs[:,int(time_stamp[k])*MMI_SAMPLERATE+(m*64)+(n*8) : \n",
    "                                                       int(time_stamp[k])*MMI_SAMPLERATE+(m*64)+((n+1)*8)], axis = 1)\n",
    "                    temp2 = np.corrcoef(temp)\n",
    "\n",
    "                    MMI_half_num = takehalfnums(temp2)\n",
    "                    MMI_seq_data[0,idx,:] = MMI_half_num\n",
    "                    idx += 1\n",
    "\n",
    "                    if(idx == 10):\n",
    "                        if(label[k] == 'T1'):\n",
    "                            if(j%4 == 0):\n",
    "                                MMI_data_LeftHand = np.concatenate((MMI_data_LeftHand, MMI_seq_data), axis = 0)\n",
    "                            else:\n",
    "                                MMI_data_BothHand = np.concatenate((MMI_data_BothHand, MMI_seq_data), axis = 0)\n",
    "                        elif(label[k] == 'T2'):\n",
    "                            if(j%4 == 0):\n",
    "                                MMI_data_RightHand = np.concatenate((MMI_data_RightHand, MMI_seq_data), axis = 0)\n",
    "                            else:\n",
    "                                MMI_data_BothFeet = np.concatenate((MMI_data_BothFeet, MMI_seq_data), axis = 0)\n",
    "                        idx = 0\n",
    "    path = save_path+str(i+1).zfill(3)\n",
    "    print(path)\n",
    "    np.save(path+'/EyeClose', MMI_data_EyeClose)\n",
    "    np.save(path+'/EyeOpen', MMI_data_EyeOpen)\n",
    "    np.save(path+'/BothHand', MMI_data_BothHand)\n",
    "    np.save(path+'/BothFeet', MMI_data_BothFeet)\n",
    "    np.save(path+'/RightHand', MMI_data_RightHand)\n",
    "    np.save(path+'/LeftHand', MMI_data_LeftHand)\n",
    "\n",
    "print(MMI_data_EyeOpen.shape)\n",
    "print(MMI_data_EyeClose.shape)\n",
    "print(MMI_data_BothFeet.shape)\n",
    "print(MMI_data_BothHand.shape)\n",
    "print(MMI_data_RightHand.shape)\n",
    "print(MMI_data_LeftHand.shape)\n",
    "\n",
    "print(\"Feature extract completed\")"
   ]
  },
  {
   "cell_type": "markdown",
   "metadata": {},
   "source": [
    "##  TRIAL 2 (8개 단위로 평균, sliding window)"
   ]
  },
  {
   "cell_type": "code",
   "execution_count": 6,
   "metadata": {
    "scrolled": true
   },
   "outputs": [
    {
     "name": "stderr",
     "output_type": "stream",
     "text": [
      "\n",
      "  0%|                                                                                           | 0/80 [00:00<?, ?it/s]\n",
      "  1%|█                                                                                  | 1/80 [00:23<30:53, 23.46s/it]\n",
      "  2%|██                                                                                 | 2/80 [00:50<31:42, 24.39s/it]\n",
      "  4%|███                                                                                | 3/80 [01:13<31:06, 24.24s/it]\n",
      "  5%|████▏                                                                              | 4/80 [01:40<31:40, 25.00s/it]\n",
      "  6%|█████▏                                                                             | 5/80 [02:05<31:01, 24.82s/it]\n",
      "  8%|██████▏                                                                            | 6/80 [02:29<30:32, 24.77s/it]\n",
      "  9%|███████▎                                                                           | 7/80 [02:52<29:34, 24.30s/it]\n",
      " 10%|████████▎                                                                          | 8/80 [03:16<28:43, 23.93s/it]\n",
      " 11%|█████████▎                                                                         | 9/80 [03:39<28:06, 23.75s/it]\n",
      " 12%|██████████▎                                                                       | 10/80 [04:02<27:33, 23.62s/it]\n",
      " 14%|███████████▎                                                                      | 11/80 [04:26<27:08, 23.60s/it]\n",
      " 15%|████████████▎                                                                     | 12/80 [04:49<26:47, 23.64s/it]\n",
      " 16%|█████████████▎                                                                    | 13/80 [05:13<26:21, 23.60s/it]\n",
      " 18%|██████████████▎                                                                   | 14/80 [05:36<25:50, 23.49s/it]\n",
      " 19%|███████████████▍                                                                  | 15/80 [05:59<25:19, 23.38s/it]\n",
      " 20%|████████████████▍                                                                 | 16/80 [06:24<25:23, 23.80s/it]\n",
      " 21%|█████████████████▍                                                                | 17/80 [06:49<25:13, 24.02s/it]\n",
      " 22%|██████████████████▍                                                               | 18/80 [07:12<24:38, 23.85s/it]\n",
      " 24%|███████████████████▍                                                              | 19/80 [07:36<24:12, 23.81s/it]\n",
      " 25%|████████████████████▌                                                             | 20/80 [07:59<23:43, 23.72s/it]\n",
      " 26%|█████████████████████▌                                                            | 21/80 [08:22<23:09, 23.54s/it]\n",
      " 28%|██████████████████████▌                                                           | 22/80 [08:47<22:59, 23.79s/it]\n",
      " 29%|███████████████████████▌                                                          | 23/80 [09:10<22:28, 23.66s/it]\n",
      " 30%|████████████████████████▌                                                         | 24/80 [09:34<22:02, 23.61s/it]\n",
      " 31%|█████████████████████████▋                                                        | 25/80 [09:58<21:43, 23.70s/it]\n",
      " 32%|██████████████████████████▋                                                       | 26/80 [10:21<21:10, 23.53s/it]\n",
      " 34%|███████████████████████████▋                                                      | 27/80 [10:44<20:46, 23.51s/it]\n",
      " 35%|████████████████████████████▋                                                     | 28/80 [11:08<20:19, 23.46s/it]\n",
      " 36%|█████████████████████████████▋                                                    | 29/80 [11:31<19:57, 23.49s/it]\n",
      " 38%|██████████████████████████████▊                                                   | 30/80 [11:54<19:31, 23.43s/it]\n",
      " 39%|███████████████████████████████▊                                                  | 31/80 [12:18<19:14, 23.55s/it]\n",
      " 40%|████████████████████████████████▊                                                 | 32/80 [12:41<18:43, 23.41s/it]\n",
      " 41%|█████████████████████████████████▊                                                | 33/80 [13:05<18:20, 23.41s/it]\n",
      " 42%|██████████████████████████████████▊                                               | 34/80 [13:28<17:57, 23.42s/it]\n",
      " 44%|███████████████████████████████████▉                                              | 35/80 [13:52<17:39, 23.54s/it]\n",
      " 45%|████████████████████████████████████▉                                             | 36/80 [14:15<17:12, 23.47s/it]\n",
      " 46%|█████████████████████████████████████▉                                            | 37/80 [14:39<16:49, 23.48s/it]\n",
      " 48%|██████████████████████████████████████▉                                           | 38/80 [15:02<16:26, 23.48s/it]\n",
      " 49%|███████████████████████████████████████▉                                          | 39/80 [15:26<16:10, 23.66s/it]\n",
      " 50%|█████████████████████████████████████████                                         | 40/80 [15:50<15:45, 23.64s/it]\n",
      " 51%|██████████████████████████████████████████                                        | 41/80 [16:14<15:25, 23.74s/it]\n",
      " 52%|███████████████████████████████████████████                                       | 42/80 [16:39<15:19, 24.20s/it]\n",
      " 54%|████████████████████████████████████████████                                      | 43/80 [17:05<15:13, 24.69s/it]\n",
      " 55%|█████████████████████████████████████████████                                     | 44/80 [17:30<14:56, 24.90s/it]\n",
      " 56%|██████████████████████████████████████████████▏                                   | 45/80 [17:55<14:30, 24.88s/it]\n",
      " 57%|███████████████████████████████████████████████▏                                  | 46/80 [18:19<13:55, 24.58s/it]\n",
      " 59%|████████████████████████████████████████████████▏                                 | 47/80 [18:42<13:17, 24.18s/it]\n",
      " 60%|█████████████████████████████████████████████████▏                                | 48/80 [19:05<12:43, 23.85s/it]\n",
      " 61%|██████████████████████████████████████████████████▏                               | 49/80 [19:30<12:21, 23.92s/it]\n",
      " 62%|███████████████████████████████████████████████████▎                              | 50/80 [19:55<12:15, 24.51s/it]\n",
      " 64%|████████████████████████████████████████████████████▎                             | 51/80 [20:22<12:10, 25.17s/it]\n",
      " 65%|█████████████████████████████████████████████████████▎                            | 52/80 [20:47<11:44, 25.17s/it]\n",
      " 66%|██████████████████████████████████████████████████████▎                           | 53/80 [21:14<11:29, 25.55s/it]\n",
      " 68%|███████████████████████████████████████████████████████▎                          | 54/80 [21:42<11:29, 26.50s/it]\n",
      " 69%|████████████████████████████████████████████████████████▍                         | 55/80 [22:08<10:53, 26.13s/it]\n",
      " 70%|█████████████████████████████████████████████████████████▍                        | 56/80 [22:34<10:25, 26.08s/it]\n",
      " 71%|██████████████████████████████████████████████████████████▍                       | 57/80 [22:59<09:56, 25.94s/it]\n",
      " 72%|███████████████████████████████████████████████████████████▍                      | 58/80 [23:23<09:18, 25.38s/it]\n",
      " 74%|████████████████████████████████████████████████████████████▍                     | 59/80 [23:48<08:47, 25.11s/it]\n",
      " 75%|█████████████████████████████████████████████████████████████▌                    | 60/80 [24:12<08:17, 24.86s/it]\n",
      " 76%|██████████████████████████████████████████████████████████████▌                   | 61/80 [24:36<07:47, 24.62s/it]\n",
      " 78%|███████████████████████████████████████████████████████████████▌                  | 62/80 [25:01<07:25, 24.75s/it]\n",
      " 79%|████████████████████████████████████████████████████████████████▌                 | 63/80 [25:26<07:00, 24.74s/it]\n",
      " 80%|█████████████████████████████████████████████████████████████████▌                | 64/80 [25:50<06:34, 24.65s/it]\n",
      " 81%|██████████████████████████████████████████████████████████████████▋               | 65/80 [26:15<06:08, 24.58s/it]\n",
      " 82%|███████████████████████████████████████████████████████████████████▋              | 66/80 [26:38<05:39, 24.28s/it]\n",
      " 84%|████████████████████████████████████████████████████████████████████▋             | 67/80 [27:04<05:20, 24.67s/it]\n",
      " 85%|█████████████████████████████████████████████████████████████████████▋            | 68/80 [27:29<04:56, 24.71s/it]\n",
      " 86%|██████████████████████████████████████████████████████████████████████▋           | 69/80 [27:53<04:30, 24.61s/it]\n",
      " 88%|███████████████████████████████████████████████████████████████████████▊          | 70/80 [28:17<04:03, 24.35s/it]\n",
      " 89%|████████████████████████████████████████████████████████████████████████▊         | 71/80 [28:41<03:38, 24.25s/it]\n",
      " 90%|█████████████████████████████████████████████████████████████████████████▊        | 72/80 [29:05<03:13, 24.15s/it]\n",
      " 91%|██████████████████████████████████████████████████████████████████████████▊       | 73/80 [29:29<02:48, 24.04s/it]\n",
      " 92%|███████████████████████████████████████████████████████████████████████████▊      | 74/80 [29:52<02:23, 23.96s/it]\n",
      " 94%|████████████████████████████████████████████████████████████████████████████▉     | 75/80 [30:16<01:59, 23.93s/it]\n",
      " 95%|█████████████████████████████████████████████████████████████████████████████▉    | 76/80 [30:41<01:37, 24.31s/it]\n",
      " 96%|██████████████████████████████████████████████████████████████████████████████▉   | 77/80 [31:06<01:13, 24.40s/it]\n",
      " 98%|███████████████████████████████████████████████████████████████████████████████▉  | 78/80 [31:30<00:48, 24.38s/it]\n",
      " 99%|████████████████████████████████████████████████████████████████████████████████▉ | 79/80 [31:54<00:24, 24.24s/it]\n",
      "100%|██████████████████████████████████████████████████████████████████████████████████| 80/80 [32:18<00:00, 24.01s/it]"
     ]
    },
    {
     "name": "stdout",
     "output_type": "stream",
     "text": [
      "(120, 10, 2016)\n",
      "(244, 10, 2016)\n",
      "(107, 10, 2016)\n",
      "(109, 10, 2016)\n",
      "(167, 10, 2016)\n",
      "(157, 10, 2016)\n",
      "Feature extract completed\n"
     ]
    }
   ],
   "source": [
    "file_path='./eegmmidb_edf/S'\n",
    "save_path='D:/DEAP dataset/EEGMMIDB/eegmmidb_feature/S'\n",
    "\n",
    "temp = np.zeros((64,8))\n",
    "temp2 = np.zeros((64,64))\n",
    "MMI_half_num = np.zeros((1,MMI_FEATURE_NUM))\n",
    "MMI_seq_data = np.zeros((1,MMI_SEQUENCE_LEN,MMI_FEATURE_NUM))\n",
    "\n",
    "for i in tqdm(range(MMI_SUBJECT)):\n",
    "    MMI_data_EyeClose = np.array([]).reshape(0,MMI_SEQUENCE_LEN,MMI_FEATURE_NUM)\n",
    "    MMI_data_EyeOpen = np.array([]).reshape(0,MMI_SEQUENCE_LEN,MMI_FEATURE_NUM)\n",
    "    MMI_data_RightHand = np.array([]).reshape(0,MMI_SEQUENCE_LEN,MMI_FEATURE_NUM)\n",
    "    MMI_data_LeftHand = np.array([]).reshape(0,MMI_SEQUENCE_LEN,MMI_FEATURE_NUM)\n",
    "    MMI_data_BothHand = np.array([]).reshape(0,MMI_SEQUENCE_LEN,MMI_FEATURE_NUM)\n",
    "    MMI_data_BothFeet = np.array([]).reshape(0,MMI_SEQUENCE_LEN,MMI_FEATURE_NUM)\n",
    "    \n",
    "    for j in range(MMI_TRIAL):\n",
    "        idx = 0\n",
    "        \n",
    "        path = file_path+str(i+1).zfill(3)+'/s'+str(i+1).zfill(3)+'R'+str(j+1).zfill(2)+'.edf'\n",
    "        f = pyedflib.EdfReader(path)\n",
    "        annotations = f.readAnnotations()\n",
    "        buf_len = f.getNSamples()[0]\n",
    "        sigbufs = np.zeros((MMI_CHANNEL, buf_len))\n",
    "        for k in range(MMI_CHANNEL):\n",
    "            sigbufs[k,:] = f.readSignal(k)\n",
    "        f = pyedflib.close_file\n",
    "        \n",
    "        ##prevent mean of empty slice\n",
    "        train_data = np.nan_to_num(sigbufs)\n",
    "        \n",
    "        time_stamp = annotations[0]\n",
    "        label = annotations[2]\n",
    "                \n",
    "        if (j == 1 or j == 2):\n",
    "            for m in range((int)(buf_len/8 - 20)): #뒤쪽 부분 모두 0이라 제외\n",
    "                for n in range(8):\n",
    "                    temp[:,n] = np.mean(sigbufs[:,(m*8)+(n*8) : (m*8)+(n+1)*8], axis = 1)\n",
    "                temp2 = np.corrcoef(temp)\n",
    "                \n",
    "                MMI_half_num = takehalfnums(temp2)\n",
    "                MMI_seq_data[0,idx,:] = MMI_half_num\n",
    "                idx += 1\n",
    "                \n",
    "                if(idx == 10):\n",
    "                    if(j==1):\n",
    "                        MMI_data_EyeOpen = np.concatenate((MMI_data_EyeOpen, MMI_seq_data), axis = 0)\n",
    "                    else:\n",
    "                        MMI_data_EyeClose = np.concatenate((MMI_data_EyeClose, MMI_seq_data), axis = 0)\n",
    "                    idx = 0\n",
    "            \n",
    "        elif (j%2 == 0 and j>2):\n",
    "        \n",
    "            for k in range(len(label)):\n",
    "                for m in range(72):\n",
    "                    for n in range(8):\n",
    "                        temp[:,n] = np.mean(sigbufs[:,int(time_stamp[k])*MMI_SAMPLERATE+(m*8)+(n*8) : \n",
    "                                                       int(time_stamp[k])*MMI_SAMPLERATE+(m*8)+((n+1)*8)], axis = 1)\n",
    "                    temp2 = np.corrcoef(temp)\n",
    "\n",
    "                    MMI_half_num = takehalfnums(temp2)\n",
    "                    MMI_seq_data[0,idx,:] = MMI_half_num\n",
    "                    idx += 1\n",
    "\n",
    "                    if(idx == 10):\n",
    "                        if(label[k] == 'T1'):\n",
    "                            if(j%4 == 0):\n",
    "                                MMI_data_LeftHand = np.concatenate((MMI_data_LeftHand, MMI_seq_data), axis = 0)\n",
    "                            else:\n",
    "                                MMI_data_BothHand = np.concatenate((MMI_data_BothHand, MMI_seq_data), axis = 0)\n",
    "                        elif(label[k] == 'T2'):\n",
    "                            if(j%4 == 0):\n",
    "                                MMI_data_RightHand = np.concatenate((MMI_data_RightHand, MMI_seq_data), axis = 0)\n",
    "                            else:\n",
    "                                MMI_data_BothFeet = np.concatenate((MMI_data_BothFeet, MMI_seq_data), axis = 0)\n",
    "                        idx = 0\n",
    "    path = save_path+str(i+1).zfill(3)\n",
    "    np.save(path+'/EyeClose_4', MMI_data_EyeClose)\n",
    "    np.save(path+'/EyeOpen_4', MMI_data_EyeOpen)\n",
    "    np.save(path+'/BothHand_4', MMI_data_BothHand)\n",
    "    np.save(path+'/BothFeet_4', MMI_data_BothFeet)\n",
    "    np.save(path+'/RightHand_4', MMI_data_RightHand)\n",
    "    np.save(path+'/LeftHand_4', MMI_data_LeftHand)\n",
    "\n",
    "print(MMI_data_EyeOpen.shape)\n",
    "print(MMI_data_EyeClose.shape)\n",
    "print(MMI_data_BothFeet.shape)\n",
    "print(MMI_data_BothHand.shape)\n",
    "print(MMI_data_RightHand.shape)\n",
    "print(MMI_data_LeftHand.shape)\n",
    "\n",
    "print(\"Feature extract completed\")"
   ]
  },
  {
   "cell_type": "markdown",
   "metadata": {},
   "source": [
    "## LEARNING"
   ]
  },
  {
   "cell_type": "code",
   "execution_count": 4,
   "metadata": {
    "scrolled": true
   },
   "outputs": [
    {
     "name": "stderr",
     "output_type": "stream",
     "text": [
      " 92%|███████████████████████████████████████████████████████████████████████████▊      | 74/80 [02:29<00:20,  3.40s/it]"
     ]
    },
    {
     "ename": "MemoryError",
     "evalue": "",
     "output_type": "error",
     "traceback": [
      "\u001b[1;31m---------------------------------------------------------------------------\u001b[0m",
      "\u001b[1;31mMemoryError\u001b[0m                               Traceback (most recent call last)",
      "\u001b[1;32m<ipython-input-4-c2b277d0be07>\u001b[0m in \u001b[0;36m<module>\u001b[1;34m\u001b[0m\n\u001b[0;32m     15\u001b[0m     \u001b[0mMMI_data_BothHand\u001b[0m \u001b[1;33m=\u001b[0m \u001b[0mnp\u001b[0m\u001b[1;33m.\u001b[0m\u001b[0mconcatenate\u001b[0m\u001b[1;33m(\u001b[0m\u001b[1;33m(\u001b[0m\u001b[0mMMI_data_BothHand\u001b[0m\u001b[1;33m,\u001b[0m \u001b[0mtemp\u001b[0m\u001b[1;33m)\u001b[0m\u001b[1;33m,\u001b[0m \u001b[0maxis\u001b[0m \u001b[1;33m=\u001b[0m \u001b[1;36m0\u001b[0m\u001b[1;33m)\u001b[0m\u001b[1;33m\u001b[0m\u001b[1;33m\u001b[0m\u001b[0m\n\u001b[0;32m     16\u001b[0m     \u001b[0mtemp\u001b[0m \u001b[1;33m=\u001b[0m \u001b[0mnp\u001b[0m\u001b[1;33m.\u001b[0m\u001b[0mload\u001b[0m\u001b[1;33m(\u001b[0m\u001b[0mpath\u001b[0m\u001b[1;33m+\u001b[0m\u001b[1;34m'EyeClose_4.npy'\u001b[0m\u001b[1;33m)\u001b[0m\u001b[1;33m\u001b[0m\u001b[1;33m\u001b[0m\u001b[0m\n\u001b[1;32m---> 17\u001b[1;33m     \u001b[0mMMI_data_EyeClose\u001b[0m \u001b[1;33m=\u001b[0m \u001b[0mnp\u001b[0m\u001b[1;33m.\u001b[0m\u001b[0mconcatenate\u001b[0m\u001b[1;33m(\u001b[0m\u001b[1;33m(\u001b[0m\u001b[0mMMI_data_EyeClose\u001b[0m\u001b[1;33m,\u001b[0m \u001b[0mtemp\u001b[0m\u001b[1;33m)\u001b[0m\u001b[1;33m,\u001b[0m \u001b[0maxis\u001b[0m \u001b[1;33m=\u001b[0m \u001b[1;36m0\u001b[0m\u001b[1;33m)\u001b[0m\u001b[1;33m\u001b[0m\u001b[1;33m\u001b[0m\u001b[0m\n\u001b[0m\u001b[0;32m     18\u001b[0m     \u001b[0mtemp\u001b[0m \u001b[1;33m=\u001b[0m \u001b[0mnp\u001b[0m\u001b[1;33m.\u001b[0m\u001b[0mload\u001b[0m\u001b[1;33m(\u001b[0m\u001b[0mpath\u001b[0m\u001b[1;33m+\u001b[0m\u001b[1;34m'LeftHand_4.npy'\u001b[0m\u001b[1;33m)\u001b[0m\u001b[1;33m\u001b[0m\u001b[1;33m\u001b[0m\u001b[0m\n\u001b[0;32m     19\u001b[0m     \u001b[0mMMI_data_LeftHand\u001b[0m \u001b[1;33m=\u001b[0m \u001b[0mnp\u001b[0m\u001b[1;33m.\u001b[0m\u001b[0mconcatenate\u001b[0m\u001b[1;33m(\u001b[0m\u001b[1;33m(\u001b[0m\u001b[0mMMI_data_LeftHand\u001b[0m\u001b[1;33m,\u001b[0m \u001b[0mtemp\u001b[0m\u001b[1;33m)\u001b[0m\u001b[1;33m,\u001b[0m \u001b[0maxis\u001b[0m \u001b[1;33m=\u001b[0m \u001b[1;36m0\u001b[0m\u001b[1;33m)\u001b[0m\u001b[1;33m\u001b[0m\u001b[1;33m\u001b[0m\u001b[0m\n",
      "\u001b[1;31mMemoryError\u001b[0m: "
     ]
    }
   ],
   "source": [
    "##load the data##\n",
    "load_path = './eegmmidb_feature/S'\n",
    "\n",
    "MMI_data_EyeClose = np.array([]).reshape(0,MMI_SEQUENCE_LEN,MMI_FEATURE_NUM)\n",
    "MMI_data_RightHand = np.array([]).reshape(0,MMI_SEQUENCE_LEN,MMI_FEATURE_NUM)\n",
    "MMI_data_LeftHand = np.array([]).reshape(0,MMI_SEQUENCE_LEN,MMI_FEATURE_NUM)\n",
    "MMI_data_BothHand = np.array([]).reshape(0,MMI_SEQUENCE_LEN,MMI_FEATURE_NUM)\n",
    "MMI_data_BothFeet = np.array([]).reshape(0,MMI_SEQUENCE_LEN,MMI_FEATURE_NUM)\n",
    "\n",
    "for i in tqdm(range(MMI_SUBJECT)):\n",
    "    path = load_path+str(i+1).zfill(3)+'/'\n",
    "    temp = np.load(path+'BothFeet_4.npy')\n",
    "    MMI_data_BothFeet = np.concatenate((MMI_data_BothFeet, temp), axis = 0)\n",
    "    temp = np.load(path+'BothHand_4.npy')\n",
    "    MMI_data_BothHand = np.concatenate((MMI_data_BothHand, temp), axis = 0)\n",
    "    temp = np.load(path+'EyeClose_4.npy')\n",
    "    MMI_data_EyeClose = np.concatenate((MMI_data_EyeClose, temp), axis = 0)\n",
    "    temp = np.load(path+'LeftHand_4.npy')\n",
    "    MMI_data_LeftHand = np.concatenate((MMI_data_LeftHand, temp), axis = 0)\n",
    "    temp = np.load(path+'RightHand_4.npy')\n",
    "    MMI_data_RightHand = np.concatenate((MMI_data_RightHand, temp), axis = 0)\n",
    "  \n",
    "\n",
    "print(MMI_data_BothFeet.shape)\n",
    "print(MMI_data_BothHand.shape)\n",
    "print(MMI_data_EyeClose.shape)\n",
    "print(MMI_data_RightHand.shape)\n",
    "print(MMI_data_LeftHand.shape)"
   ]
  },
  {
   "cell_type": "code",
   "execution_count": 20,
   "metadata": {},
   "outputs": [
    {
     "ename": "ValueError",
     "evalue": "all the input arrays must have same number of dimensions",
     "output_type": "error",
     "traceback": [
      "\u001b[1;31m---------------------------------------------------------------------------\u001b[0m",
      "\u001b[1;31mValueError\u001b[0m                                Traceback (most recent call last)",
      "\u001b[1;32m<ipython-input-20-6fb87d8eaeb1>\u001b[0m in \u001b[0;36m<module>\u001b[1;34m\u001b[0m\n\u001b[0;32m     18\u001b[0m \u001b[1;33m\u001b[0m\u001b[0m\n\u001b[0;32m     19\u001b[0m \u001b[1;33m\u001b[0m\u001b[0m\n\u001b[1;32m---> 20\u001b[1;33m \u001b[0mtrain_data\u001b[0m \u001b[1;33m=\u001b[0m \u001b[0mnp\u001b[0m\u001b[1;33m.\u001b[0m\u001b[0mconcatenate\u001b[0m\u001b[1;33m(\u001b[0m\u001b[1;33m(\u001b[0m\u001b[0mtrain_data\u001b[0m\u001b[1;33m,\u001b[0m \u001b[0mMMI_data_EyeClose\u001b[0m\u001b[1;33m)\u001b[0m\u001b[1;33m,\u001b[0m \u001b[0maxis\u001b[0m \u001b[1;33m=\u001b[0m \u001b[1;36m0\u001b[0m\u001b[1;33m)\u001b[0m\u001b[1;33m\u001b[0m\u001b[1;33m\u001b[0m\u001b[0m\n\u001b[0m\u001b[0;32m     21\u001b[0m \u001b[0mMMI_data_EyeClose\u001b[0m \u001b[1;33m=\u001b[0m \u001b[0mnp\u001b[0m\u001b[1;33m.\u001b[0m\u001b[0marray\u001b[0m\u001b[1;33m(\u001b[0m\u001b[1;33m[\u001b[0m\u001b[1;33m]\u001b[0m\u001b[1;33m)\u001b[0m\u001b[1;33m\u001b[0m\u001b[1;33m\u001b[0m\u001b[0m\n\u001b[0;32m     22\u001b[0m \u001b[0mtrain_data\u001b[0m \u001b[1;33m=\u001b[0m \u001b[0mnp\u001b[0m\u001b[1;33m.\u001b[0m\u001b[0mconcatenate\u001b[0m\u001b[1;33m(\u001b[0m\u001b[1;33m(\u001b[0m\u001b[0mtrain_data\u001b[0m\u001b[1;33m,\u001b[0m \u001b[0mMMI_data_BothFeet\u001b[0m\u001b[1;33m)\u001b[0m\u001b[1;33m,\u001b[0m \u001b[0maxis\u001b[0m \u001b[1;33m=\u001b[0m \u001b[1;36m0\u001b[0m\u001b[1;33m)\u001b[0m\u001b[1;33m\u001b[0m\u001b[1;33m\u001b[0m\u001b[0m\n",
      "\u001b[1;31mValueError\u001b[0m: all the input arrays must have same number of dimensions"
     ]
    }
   ],
   "source": [
    "train_target = []\n",
    "\n",
    "for i in range(MMI_data_EyeClose.shape[0]):\n",
    "    train_target.append([1,0,0,0,0])\n",
    "for i in range(MMI_data_BothFeet.shape[0]):\n",
    "    train_target.append([0,1,0,0,0])\n",
    "for i in range(MMI_data_BothHand.shape[0]):\n",
    "    train_target.append([0,0,1,0,0])\n",
    "for i in range(MMI_data_LeftHand.shape[0]):\n",
    "    train_target.append([0,0,0,1,0])\n",
    "for i in range(MMI_data_RightHand.shape[0]):\n",
    "    train_target.append([0,0,0,0,1])\n",
    "train_target = np.array(train_target)\n",
    "    \n",
    "\n",
    "train_data = np.array([]).reshape(0,MMI_SEQUENCE_LEN,MMI_FEATURE_NUM)\n",
    "\n",
    "train_data = np.concatenate((train_data, MMI_data_EyeClose), axis = 0)\n",
    "print(train_data.shape, MMI_data_EyeClose.shape)\n",
    "MMI_data_EyeClose = np.array([]).reshape(0,MMI_SEQUENCE_LEN,MMI_FEATURE_NUM)\n",
    "\n",
    "train_data = np.concatenate((train_data, MMI_data_BothFeet), axis = 0)\n",
    "print(train_data.shape, MMI_data_BothFeet.shape)\n",
    "MMI_data_BothFeet = np.array([]).reshape(0,MMI_SEQUENCE_LEN,MMI_FEATURE_NUM)\n",
    "\n",
    "train_data = np.concatenate((train_data, MMI_data_BothHand), axis = 0)\n",
    "print(train_data.shape, MMI_data_BothHand.shape)\n",
    "MMI_data_BothHand = np.array([]).reshape(0,MMI_SEQUENCE_LEN,MMI_FEATURE_NUM)\n",
    "\n",
    "train_data = np.concatenate((train_data, MMI_data_LeftHand), axis = 0)\n",
    "print(train_data.shape, MMI_data_LeftHand.shape)\n",
    "MMI_data_LeftHand = np.array([]).reshape(0,MMI_SEQUENCE_LEN,MMI_FEATURE_NUM)\n",
    "\n",
    "train_data = np.concatenate((train_data, MMI_data_RightHand), axis = 0)\n",
    "print(train_data.shape, MMI_data_RightHand.shape)\n",
    "MMI_data_RightHand = np.array([]).reshape(0,MMI_SEQUENCE_LEN,MMI_FEATURE_NUM)\n",
    "\n",
    "idx = [i for i in range(train_data.shape[0])]\n",
    "np.random.shuffle(idx)\n",
    "\n",
    "train_data = train_data[idx]\n",
    "train_target = train_target[idx]\n",
    "\n",
    "\n",
    "print(train_data.shape)\n",
    "print(train_target.shape)"
   ]
  },
  {
   "cell_type": "code",
   "execution_count": null,
   "metadata": {},
   "outputs": [],
   "source": [
    "## save memory\n",
    "MMI_data_EyeClose = np.array([]).reshape(0,MMI_SEQUENCE_LEN,MMI_FEATURE_NUM)\n",
    "MMI_data_RightHand = np.array([]).reshape(0,MMI_SEQUENCE_LEN,MMI_FEATURE_NUM)\n",
    "MMI_data_LeftHand = np.array([]).reshape(0,MMI_SEQUENCE_LEN,MMI_FEATURE_NUM)\n",
    "MMI_data_BothHand = np.array([]).reshape(0,MMI_SEQUENCE_LEN,MMI_FEATURE_NUM)\n",
    "MMI_data_BothFeet = np.array([]).reshape(0,MMI_SEQUENCE_LEN,MMI_FEATURE_NUM)"
   ]
  },
  {
   "cell_type": "code",
   "execution_count": 21,
   "metadata": {
    "scrolled": false
   },
   "outputs": [
    {
     "name": "stderr",
     "output_type": "stream",
     "text": [
      "WARNING: Logging before flag parsing goes to stderr.\n",
      "W0918 21:07:19.733253  3532 deprecation_wrapper.py:119] From C:\\Users\\jae\\Anaconda3\\lib\\site-packages\\keras\\backend\\tensorflow_backend.py:74: The name tf.get_default_graph is deprecated. Please use tf.compat.v1.get_default_graph instead.\n",
      "\n",
      "W0918 21:07:19.847187  3532 deprecation_wrapper.py:119] From C:\\Users\\jae\\Anaconda3\\lib\\site-packages\\keras\\optimizers.py:790: The name tf.train.Optimizer is deprecated. Please use tf.compat.v1.train.Optimizer instead.\n",
      "\n",
      "W0918 21:07:19.862165  3532 deprecation_wrapper.py:119] From C:\\Users\\jae\\Anaconda3\\lib\\site-packages\\keras\\backend\\tensorflow_backend.py:517: The name tf.placeholder is deprecated. Please use tf.compat.v1.placeholder instead.\n",
      "\n",
      "W0918 21:07:19.864166  3532 deprecation_wrapper.py:119] From C:\\Users\\jae\\Anaconda3\\lib\\site-packages\\keras\\backend\\tensorflow_backend.py:4138: The name tf.random_uniform is deprecated. Please use tf.random.uniform instead.\n",
      "\n",
      "W0918 21:07:20.090048  3532 deprecation_wrapper.py:119] From C:\\Users\\jae\\Anaconda3\\lib\\site-packages\\keras\\backend\\tensorflow_backend.py:133: The name tf.placeholder_with_default is deprecated. Please use tf.compat.v1.placeholder_with_default instead.\n",
      "\n",
      "W0918 21:07:20.096041  3532 deprecation.py:506] From C:\\Users\\jae\\Anaconda3\\lib\\site-packages\\keras\\backend\\tensorflow_backend.py:3445: calling dropout (from tensorflow.python.ops.nn_ops) with keep_prob is deprecated and will be removed in a future version.\n",
      "Instructions for updating:\n",
      "Please use `rate` instead of `keep_prob`. Rate should be set to `rate = 1 - keep_prob`.\n",
      "W0918 21:07:20.259938  3532 deprecation_wrapper.py:119] From C:\\Users\\jae\\Anaconda3\\lib\\site-packages\\keras\\backend\\tensorflow_backend.py:3295: The name tf.log is deprecated. Please use tf.math.log instead.\n",
      "\n"
     ]
    },
    {
     "ename": "ValueError",
     "evalue": "Error when checking target: expected dense_1 to have shape (5,) but got array with shape (1,)",
     "output_type": "error",
     "traceback": [
      "\u001b[1;31m---------------------------------------------------------------------------\u001b[0m",
      "\u001b[1;31mValueError\u001b[0m                                Traceback (most recent call last)",
      "\u001b[1;32m<ipython-input-21-e4a1dce2a57a>\u001b[0m in \u001b[0;36m<module>\u001b[1;34m\u001b[0m\n\u001b[0;32m      7\u001b[0m \u001b[0mmodel\u001b[0m\u001b[1;33m.\u001b[0m\u001b[0mcompile\u001b[0m\u001b[1;33m(\u001b[0m\u001b[0moptimizer\u001b[0m\u001b[1;33m=\u001b[0m\u001b[1;34m'rmsprop'\u001b[0m\u001b[1;33m,\u001b[0m \u001b[0mloss\u001b[0m\u001b[1;33m=\u001b[0m\u001b[1;34m'categorical_crossentropy'\u001b[0m\u001b[1;33m,\u001b[0m \u001b[0mmetrics\u001b[0m\u001b[1;33m=\u001b[0m\u001b[1;33m[\u001b[0m\u001b[1;34m'accuracy'\u001b[0m\u001b[1;33m]\u001b[0m\u001b[1;33m)\u001b[0m\u001b[1;33m\u001b[0m\u001b[1;33m\u001b[0m\u001b[0m\n\u001b[0;32m      8\u001b[0m history = model.fit(train_data, train_target, epochs=150, batch_size=128, \n\u001b[1;32m----> 9\u001b[1;33m                     validation_split=0.2, verbose = 2) #(test_data, test_new), verbose=0)\n\u001b[0m\u001b[0;32m     10\u001b[0m \u001b[0mval_acc\u001b[0m \u001b[1;33m=\u001b[0m \u001b[0mhistory\u001b[0m\u001b[1;33m.\u001b[0m\u001b[0mhistory\u001b[0m\u001b[1;33m[\u001b[0m\u001b[1;34m'val_acc'\u001b[0m\u001b[1;33m]\u001b[0m\u001b[1;33m\u001b[0m\u001b[1;33m\u001b[0m\u001b[0m\n\u001b[0;32m     11\u001b[0m \u001b[0mavg\u001b[0m\u001b[1;33m.\u001b[0m\u001b[0mappend\u001b[0m\u001b[1;33m(\u001b[0m\u001b[0mval_acc\u001b[0m\u001b[1;33m)\u001b[0m\u001b[1;33m\u001b[0m\u001b[1;33m\u001b[0m\u001b[0m\n",
      "\u001b[1;32m~\\Anaconda3\\lib\\site-packages\\keras\\engine\\training.py\u001b[0m in \u001b[0;36mfit\u001b[1;34m(self, x, y, batch_size, epochs, verbose, callbacks, validation_split, validation_data, shuffle, class_weight, sample_weight, initial_epoch, steps_per_epoch, validation_steps, **kwargs)\u001b[0m\n\u001b[0;32m    950\u001b[0m             \u001b[0msample_weight\u001b[0m\u001b[1;33m=\u001b[0m\u001b[0msample_weight\u001b[0m\u001b[1;33m,\u001b[0m\u001b[1;33m\u001b[0m\u001b[1;33m\u001b[0m\u001b[0m\n\u001b[0;32m    951\u001b[0m             \u001b[0mclass_weight\u001b[0m\u001b[1;33m=\u001b[0m\u001b[0mclass_weight\u001b[0m\u001b[1;33m,\u001b[0m\u001b[1;33m\u001b[0m\u001b[1;33m\u001b[0m\u001b[0m\n\u001b[1;32m--> 952\u001b[1;33m             batch_size=batch_size)\n\u001b[0m\u001b[0;32m    953\u001b[0m         \u001b[1;31m# Prepare validation data.\u001b[0m\u001b[1;33m\u001b[0m\u001b[1;33m\u001b[0m\u001b[1;33m\u001b[0m\u001b[0m\n\u001b[0;32m    954\u001b[0m         \u001b[0mdo_validation\u001b[0m \u001b[1;33m=\u001b[0m \u001b[1;32mFalse\u001b[0m\u001b[1;33m\u001b[0m\u001b[1;33m\u001b[0m\u001b[0m\n",
      "\u001b[1;32m~\\Anaconda3\\lib\\site-packages\\keras\\engine\\training.py\u001b[0m in \u001b[0;36m_standardize_user_data\u001b[1;34m(self, x, y, sample_weight, class_weight, check_array_lengths, batch_size)\u001b[0m\n\u001b[0;32m    787\u001b[0m                 \u001b[0mfeed_output_shapes\u001b[0m\u001b[1;33m,\u001b[0m\u001b[1;33m\u001b[0m\u001b[1;33m\u001b[0m\u001b[0m\n\u001b[0;32m    788\u001b[0m                 \u001b[0mcheck_batch_axis\u001b[0m\u001b[1;33m=\u001b[0m\u001b[1;32mFalse\u001b[0m\u001b[1;33m,\u001b[0m  \u001b[1;31m# Don't enforce the batch size.\u001b[0m\u001b[1;33m\u001b[0m\u001b[1;33m\u001b[0m\u001b[0m\n\u001b[1;32m--> 789\u001b[1;33m                 exception_prefix='target')\n\u001b[0m\u001b[0;32m    790\u001b[0m \u001b[1;33m\u001b[0m\u001b[0m\n\u001b[0;32m    791\u001b[0m             \u001b[1;31m# Generate sample-wise weight values given the `sample_weight` and\u001b[0m\u001b[1;33m\u001b[0m\u001b[1;33m\u001b[0m\u001b[1;33m\u001b[0m\u001b[0m\n",
      "\u001b[1;32m~\\Anaconda3\\lib\\site-packages\\keras\\engine\\training_utils.py\u001b[0m in \u001b[0;36mstandardize_input_data\u001b[1;34m(data, names, shapes, check_batch_axis, exception_prefix)\u001b[0m\n\u001b[0;32m    136\u001b[0m                             \u001b[1;34m': expected '\u001b[0m \u001b[1;33m+\u001b[0m \u001b[0mnames\u001b[0m\u001b[1;33m[\u001b[0m\u001b[0mi\u001b[0m\u001b[1;33m]\u001b[0m \u001b[1;33m+\u001b[0m \u001b[1;34m' to have shape '\u001b[0m \u001b[1;33m+\u001b[0m\u001b[1;33m\u001b[0m\u001b[1;33m\u001b[0m\u001b[0m\n\u001b[0;32m    137\u001b[0m                             \u001b[0mstr\u001b[0m\u001b[1;33m(\u001b[0m\u001b[0mshape\u001b[0m\u001b[1;33m)\u001b[0m \u001b[1;33m+\u001b[0m \u001b[1;34m' but got array with shape '\u001b[0m \u001b[1;33m+\u001b[0m\u001b[1;33m\u001b[0m\u001b[1;33m\u001b[0m\u001b[0m\n\u001b[1;32m--> 138\u001b[1;33m                             str(data_shape))\n\u001b[0m\u001b[0;32m    139\u001b[0m     \u001b[1;32mreturn\u001b[0m \u001b[0mdata\u001b[0m\u001b[1;33m\u001b[0m\u001b[1;33m\u001b[0m\u001b[0m\n\u001b[0;32m    140\u001b[0m \u001b[1;33m\u001b[0m\u001b[0m\n",
      "\u001b[1;31mValueError\u001b[0m: Error when checking target: expected dense_1 to have shape (5,) but got array with shape (1,)"
     ]
    }
   ],
   "source": [
    "model = Sequential()\n",
    "model.add(layers.LSTM(20, return_sequences=True))\n",
    "model.add(layers.Dropout(0.5))\n",
    "model.add(layers.LSTM(20))\n",
    "model.add(layers.Dropout(0.5))\n",
    "model.add(layers.Dense(5, activation='softmax'))\n",
    "model.compile(optimizer='rmsprop', loss='categorical_crossentropy', metrics=['accuracy'])\n",
    "history = model.fit(train_data, train_target, epochs=150, batch_size=128, \n",
    "                    validation_split=0.2, verbose = 2) #(test_data, test_new), verbose=0)\n",
    "val_acc = history.history['val_acc']\n",
    "avg.append(val_acc)\n",
    "print(s,max(val_acc))"
   ]
  },
  {
   "cell_type": "code",
   "execution_count": null,
   "metadata": {},
   "outputs": [],
   "source": [
    "acc = history.history['acc']\n",
    "val_acc = history.history['val_acc']\n",
    "loss = history.history['loss']\n",
    "val_loss = history.history['val_loss']\n",
    "\n",
    "epochs = range(1, len(acc) + 1)\n",
    "\n",
    "plt.plot(epochs, loss, 'r', label='Training loss')\n",
    "plt.plot(epochs, val_loss, 'b', label='Validation loss')\n",
    "plt.title('Training and validation loss')\n",
    "plt.xlabel('Epochs')\n",
    "plt.ylabel('Loss')\n",
    "plt.legend()\n",
    "plt.show()\n",
    "\n",
    "plt.clf()\n",
    "\n",
    "plt.plot(epochs, acc, 'r', label='Training acc')\n",
    "plt.plot(epochs, val_acc, 'b', label='Validation acc')\n",
    "plt.title('Training and validation accuracy')\n",
    "plt.xlabel('Epochs')\n",
    "plt.ylabel('Accuracy')\n",
    "plt.legend()\n",
    "\n",
    "plt.show()\n",
    "print(max(val_acc))"
   ]
  },
  {
   "cell_type": "code",
   "execution_count": null,
   "metadata": {},
   "outputs": [],
   "source": [
    "target_names = ['EyeClose','BothHand','BothFeet','Right Hand','Left Hand']\n",
    "y_pred = model.predict(train_data[:100])\n",
    "y_pred = np.argmax(y_pred, axis=1)\n",
    "test_labels = np.argmax(train_target[:100], axis=1)\n",
    "plot_confusion_matrix(test_labels, y_pred, traget_names, normalize = True)"
   ]
  },
  {
   "cell_type": "code",
   "execution_count": 13,
   "metadata": {
    "scrolled": true
   },
   "outputs": [
    {
     "name": "stdout",
     "output_type": "stream",
     "text": [
      "5\n",
      "6\n",
      "7\n",
      "8\n",
      "9\n"
     ]
    }
   ],
   "source": [
    "## test block\n",
    "for i in range(5, 10):\n",
    "    print(i)"
   ]
  },
  {
   "cell_type": "code",
   "execution_count": null,
   "metadata": {},
   "outputs": [],
   "source": []
  }
 ],
 "metadata": {
  "kernelspec": {
   "display_name": "Python 3",
   "language": "python",
   "name": "python3"
  },
  "language_info": {
   "codemirror_mode": {
    "name": "ipython",
    "version": 3
   },
   "file_extension": ".py",
   "mimetype": "text/x-python",
   "name": "python",
   "nbconvert_exporter": "python",
   "pygments_lexer": "ipython3",
   "version": "3.7.4"
  }
 },
 "nbformat": 4,
 "nbformat_minor": 2
}
